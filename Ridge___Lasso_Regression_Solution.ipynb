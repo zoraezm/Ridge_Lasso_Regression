{
  "cells": [
    {
      "cell_type": "markdown",
      "metadata": {
        "id": "DYlM9PQ_dfbu"
      },
      "source": [
        "# Ridge Regression"
      ]
    },
    {
      "cell_type": "markdown",
      "metadata": {
        "id": "ziXfHJI-dfbx"
      },
      "source": [
        "**Importing Libraries**"
      ]
    },
    {
      "cell_type": "code",
      "execution_count": null,
      "metadata": {
        "id": "Sv1O7fZSdfby"
      },
      "outputs": [],
      "source": [
        "import numpy as np\n",
        "import pandas as pd\n",
        "import sklearn.preprocessing \n",
        "import matplotlib.pyplot as plt\n",
        "import seaborn as sns\n",
        "%matplotlib inline\n",
        "sns.set()"
      ]
    },
    {
      "cell_type": "markdown",
      "metadata": {
        "id": "-0ate5Zvdfb0"
      },
      "source": [
        "**Task 1: Import the 'Boston.csv' data file**"
      ]
    },
    {
      "cell_type": "code",
      "execution_count": null,
      "metadata": {
        "id": "l7LlpEztdfb0"
      },
      "outputs": [],
      "source": [
        "#write code here\n",
        "data=pd.read_csv('Boston.csv')"
      ]
    },
    {
      "cell_type": "markdown",
      "metadata": {
        "id": "hefrit7Adfb1"
      },
      "source": [
        "**Task 2: Make a copy of data in 'df'**"
      ]
    },
    {
      "cell_type": "code",
      "execution_count": null,
      "metadata": {
        "id": "lUbfgJEJdfb1"
      },
      "outputs": [],
      "source": [
        "#write code here\n",
        "df=data.copy()"
      ]
    },
    {
      "cell_type": "markdown",
      "metadata": {
        "id": "7bbuJ2hvdfb1"
      },
      "source": [
        "**Task 3: Display top 5 rows of data**"
      ]
    },
    {
      "cell_type": "code",
      "execution_count": null,
      "metadata": {
        "id": "TwdgkK_Qdfb2",
        "outputId": "cc33216b-74ee-4e09-90d9-f8adfd0e5b15"
      },
      "outputs": [
        {
          "data": {
            "text/html": [
              "<div>\n",
              "<style scoped>\n",
              "    .dataframe tbody tr th:only-of-type {\n",
              "        vertical-align: middle;\n",
              "    }\n",
              "\n",
              "    .dataframe tbody tr th {\n",
              "        vertical-align: top;\n",
              "    }\n",
              "\n",
              "    .dataframe thead th {\n",
              "        text-align: right;\n",
              "    }\n",
              "</style>\n",
              "<table border=\"1\" class=\"dataframe\">\n",
              "  <thead>\n",
              "    <tr style=\"text-align: right;\">\n",
              "      <th></th>\n",
              "      <th>Crime Rate</th>\n",
              "      <th>Residential Proportion</th>\n",
              "      <th>non-retail business acres/Town</th>\n",
              "      <th>Charles River</th>\n",
              "      <th>NO2 concentration</th>\n",
              "      <th>Average Rooms/Dwelling.</th>\n",
              "      <th>Prior Built Units Proportion</th>\n",
              "      <th>Distance to Employment Centres</th>\n",
              "      <th>Radial Highways Distance</th>\n",
              "      <th>ValueProperty/tax rate</th>\n",
              "      <th>Teacher/town</th>\n",
              "      <th>blacks/town</th>\n",
              "      <th>Lower Status Percent</th>\n",
              "      <th>median home price</th>\n",
              "    </tr>\n",
              "  </thead>\n",
              "  <tbody>\n",
              "    <tr>\n",
              "      <th>0</th>\n",
              "      <td>0.00632</td>\n",
              "      <td>18.0</td>\n",
              "      <td>2.31</td>\n",
              "      <td>0.0</td>\n",
              "      <td>0.538</td>\n",
              "      <td>6.575</td>\n",
              "      <td>65.2</td>\n",
              "      <td>4.0900</td>\n",
              "      <td>1.0</td>\n",
              "      <td>296.0</td>\n",
              "      <td>15.3</td>\n",
              "      <td>396.90</td>\n",
              "      <td>4.98</td>\n",
              "      <td>24.0</td>\n",
              "    </tr>\n",
              "    <tr>\n",
              "      <th>1</th>\n",
              "      <td>0.02731</td>\n",
              "      <td>0.0</td>\n",
              "      <td>7.07</td>\n",
              "      <td>0.0</td>\n",
              "      <td>0.469</td>\n",
              "      <td>6.421</td>\n",
              "      <td>78.9</td>\n",
              "      <td>4.9671</td>\n",
              "      <td>2.0</td>\n",
              "      <td>242.0</td>\n",
              "      <td>17.8</td>\n",
              "      <td>396.90</td>\n",
              "      <td>9.14</td>\n",
              "      <td>21.6</td>\n",
              "    </tr>\n",
              "    <tr>\n",
              "      <th>2</th>\n",
              "      <td>0.02729</td>\n",
              "      <td>0.0</td>\n",
              "      <td>7.07</td>\n",
              "      <td>0.0</td>\n",
              "      <td>0.469</td>\n",
              "      <td>7.185</td>\n",
              "      <td>61.1</td>\n",
              "      <td>4.9671</td>\n",
              "      <td>2.0</td>\n",
              "      <td>242.0</td>\n",
              "      <td>17.8</td>\n",
              "      <td>392.83</td>\n",
              "      <td>4.03</td>\n",
              "      <td>34.7</td>\n",
              "    </tr>\n",
              "    <tr>\n",
              "      <th>3</th>\n",
              "      <td>0.03237</td>\n",
              "      <td>0.0</td>\n",
              "      <td>2.18</td>\n",
              "      <td>0.0</td>\n",
              "      <td>0.458</td>\n",
              "      <td>6.998</td>\n",
              "      <td>45.8</td>\n",
              "      <td>6.0622</td>\n",
              "      <td>3.0</td>\n",
              "      <td>222.0</td>\n",
              "      <td>18.7</td>\n",
              "      <td>394.63</td>\n",
              "      <td>2.94</td>\n",
              "      <td>33.4</td>\n",
              "    </tr>\n",
              "    <tr>\n",
              "      <th>4</th>\n",
              "      <td>0.06905</td>\n",
              "      <td>0.0</td>\n",
              "      <td>2.18</td>\n",
              "      <td>0.0</td>\n",
              "      <td>0.458</td>\n",
              "      <td>7.147</td>\n",
              "      <td>54.2</td>\n",
              "      <td>6.0622</td>\n",
              "      <td>3.0</td>\n",
              "      <td>222.0</td>\n",
              "      <td>18.7</td>\n",
              "      <td>396.90</td>\n",
              "      <td>5.33</td>\n",
              "      <td>36.2</td>\n",
              "    </tr>\n",
              "  </tbody>\n",
              "</table>\n",
              "</div>"
            ],
            "text/plain": [
              "   Crime Rate  Residential Proportion  non-retail business acres/Town  \\\n",
              "0     0.00632                    18.0                            2.31   \n",
              "1     0.02731                     0.0                            7.07   \n",
              "2     0.02729                     0.0                            7.07   \n",
              "3     0.03237                     0.0                            2.18   \n",
              "4     0.06905                     0.0                            2.18   \n",
              "\n",
              "   Charles River  NO2 concentration  Average Rooms/Dwelling.  \\\n",
              "0            0.0              0.538                    6.575   \n",
              "1            0.0              0.469                    6.421   \n",
              "2            0.0              0.469                    7.185   \n",
              "3            0.0              0.458                    6.998   \n",
              "4            0.0              0.458                    7.147   \n",
              "\n",
              "   Prior Built Units Proportion  Distance to Employment Centres  \\\n",
              "0                          65.2                          4.0900   \n",
              "1                          78.9                          4.9671   \n",
              "2                          61.1                          4.9671   \n",
              "3                          45.8                          6.0622   \n",
              "4                          54.2                          6.0622   \n",
              "\n",
              "   Radial Highways Distance  ValueProperty/tax rate  Teacher/town  \\\n",
              "0                       1.0                   296.0          15.3   \n",
              "1                       2.0                   242.0          17.8   \n",
              "2                       2.0                   242.0          17.8   \n",
              "3                       3.0                   222.0          18.7   \n",
              "4                       3.0                   222.0          18.7   \n",
              "\n",
              "   blacks/town  Lower Status Percent  median home price  \n",
              "0       396.90                  4.98               24.0  \n",
              "1       396.90                  9.14               21.6  \n",
              "2       392.83                  4.03               34.7  \n",
              "3       394.63                  2.94               33.4  \n",
              "4       396.90                  5.33               36.2  "
            ]
          },
          "execution_count": 4,
          "metadata": {},
          "output_type": "execute_result"
        }
      ],
      "source": [
        "#write code here\n",
        "df.head()"
      ]
    },
    {
      "cell_type": "markdown",
      "metadata": {
        "id": "QqZjFyQ4dfb3"
      },
      "source": [
        "### Creating Independent and Dependent Variables"
      ]
    },
    {
      "cell_type": "markdown",
      "metadata": {
        "id": "_N8Hdnh6dfb3"
      },
      "source": [
        "**Task 4: Create Independent and Dependent variables in 'X' and 'Y' and print their respective shapes.**"
      ]
    },
    {
      "cell_type": "code",
      "execution_count": null,
      "metadata": {
        "id": "9_9d1y1zdfb3",
        "outputId": "20ea71d0-8215-4e33-9b02-b88801e5284b"
      },
      "outputs": [
        {
          "name": "stdout",
          "output_type": "stream",
          "text": [
            "(506, 13)\n",
            "(506, 1)\n"
          ]
        }
      ],
      "source": [
        "#Write code here\n",
        "X = df.drop(['median home price'], axis=1)\n",
        "Y = df[['median home price']]\n",
        "print(X.shape)\n",
        "print(Y.shape)"
      ]
    },
    {
      "cell_type": "markdown",
      "metadata": {
        "id": "ByovWOlTdfb4"
      },
      "source": [
        "### Normalization"
      ]
    },
    {
      "cell_type": "markdown",
      "metadata": {
        "id": "Y9MBQ4dmdfb4"
      },
      "source": [
        "**Task 5: Normalize the data by applying MinMax Scaling on X.**"
      ]
    },
    {
      "cell_type": "code",
      "execution_count": null,
      "metadata": {
        "id": "giFpYplPdfb4",
        "outputId": "e5d406c2-8ca4-4be6-f82d-a9175b70a959"
      },
      "outputs": [
        {
          "data": {
            "text/html": [
              "<div>\n",
              "<style scoped>\n",
              "    .dataframe tbody tr th:only-of-type {\n",
              "        vertical-align: middle;\n",
              "    }\n",
              "\n",
              "    .dataframe tbody tr th {\n",
              "        vertical-align: top;\n",
              "    }\n",
              "\n",
              "    .dataframe thead th {\n",
              "        text-align: right;\n",
              "    }\n",
              "</style>\n",
              "<table border=\"1\" class=\"dataframe\">\n",
              "  <thead>\n",
              "    <tr style=\"text-align: right;\">\n",
              "      <th></th>\n",
              "      <th>Crime Rate</th>\n",
              "      <th>Residential Proportion</th>\n",
              "      <th>non-retail business acres/Town</th>\n",
              "      <th>Charles River</th>\n",
              "      <th>NO2 concentration</th>\n",
              "      <th>Average Rooms/Dwelling.</th>\n",
              "      <th>Prior Built Units Proportion</th>\n",
              "      <th>Distance to Employment Centres</th>\n",
              "      <th>Radial Highways Distance</th>\n",
              "      <th>ValueProperty/tax rate</th>\n",
              "      <th>Teacher/town</th>\n",
              "      <th>blacks/town</th>\n",
              "      <th>Lower Status Percent</th>\n",
              "    </tr>\n",
              "  </thead>\n",
              "  <tbody>\n",
              "    <tr>\n",
              "      <th>0</th>\n",
              "      <td>0.000000</td>\n",
              "      <td>0.18</td>\n",
              "      <td>0.067815</td>\n",
              "      <td>0.0</td>\n",
              "      <td>0.314815</td>\n",
              "      <td>0.577505</td>\n",
              "      <td>0.641607</td>\n",
              "      <td>0.269203</td>\n",
              "      <td>0.000000</td>\n",
              "      <td>0.208015</td>\n",
              "      <td>0.287234</td>\n",
              "      <td>1.000000</td>\n",
              "      <td>0.089680</td>\n",
              "    </tr>\n",
              "    <tr>\n",
              "      <th>1</th>\n",
              "      <td>0.000236</td>\n",
              "      <td>0.00</td>\n",
              "      <td>0.242302</td>\n",
              "      <td>0.0</td>\n",
              "      <td>0.172840</td>\n",
              "      <td>0.547998</td>\n",
              "      <td>0.782698</td>\n",
              "      <td>0.348962</td>\n",
              "      <td>0.043478</td>\n",
              "      <td>0.104962</td>\n",
              "      <td>0.553191</td>\n",
              "      <td>1.000000</td>\n",
              "      <td>0.204470</td>\n",
              "    </tr>\n",
              "    <tr>\n",
              "      <th>2</th>\n",
              "      <td>0.000236</td>\n",
              "      <td>0.00</td>\n",
              "      <td>0.242302</td>\n",
              "      <td>0.0</td>\n",
              "      <td>0.172840</td>\n",
              "      <td>0.694386</td>\n",
              "      <td>0.599382</td>\n",
              "      <td>0.348962</td>\n",
              "      <td>0.043478</td>\n",
              "      <td>0.104962</td>\n",
              "      <td>0.553191</td>\n",
              "      <td>0.989737</td>\n",
              "      <td>0.063466</td>\n",
              "    </tr>\n",
              "    <tr>\n",
              "      <th>3</th>\n",
              "      <td>0.000293</td>\n",
              "      <td>0.00</td>\n",
              "      <td>0.063050</td>\n",
              "      <td>0.0</td>\n",
              "      <td>0.150206</td>\n",
              "      <td>0.658555</td>\n",
              "      <td>0.441813</td>\n",
              "      <td>0.448545</td>\n",
              "      <td>0.086957</td>\n",
              "      <td>0.066794</td>\n",
              "      <td>0.648936</td>\n",
              "      <td>0.994276</td>\n",
              "      <td>0.033389</td>\n",
              "    </tr>\n",
              "    <tr>\n",
              "      <th>4</th>\n",
              "      <td>0.000705</td>\n",
              "      <td>0.00</td>\n",
              "      <td>0.063050</td>\n",
              "      <td>0.0</td>\n",
              "      <td>0.150206</td>\n",
              "      <td>0.687105</td>\n",
              "      <td>0.528321</td>\n",
              "      <td>0.448545</td>\n",
              "      <td>0.086957</td>\n",
              "      <td>0.066794</td>\n",
              "      <td>0.648936</td>\n",
              "      <td>1.000000</td>\n",
              "      <td>0.099338</td>\n",
              "    </tr>\n",
              "  </tbody>\n",
              "</table>\n",
              "</div>"
            ],
            "text/plain": [
              "   Crime Rate  Residential Proportion  non-retail business acres/Town  \\\n",
              "0    0.000000                    0.18                        0.067815   \n",
              "1    0.000236                    0.00                        0.242302   \n",
              "2    0.000236                    0.00                        0.242302   \n",
              "3    0.000293                    0.00                        0.063050   \n",
              "4    0.000705                    0.00                        0.063050   \n",
              "\n",
              "   Charles River  NO2 concentration  Average Rooms/Dwelling.  \\\n",
              "0            0.0           0.314815                 0.577505   \n",
              "1            0.0           0.172840                 0.547998   \n",
              "2            0.0           0.172840                 0.694386   \n",
              "3            0.0           0.150206                 0.658555   \n",
              "4            0.0           0.150206                 0.687105   \n",
              "\n",
              "   Prior Built Units Proportion  Distance to Employment Centres  \\\n",
              "0                      0.641607                        0.269203   \n",
              "1                      0.782698                        0.348962   \n",
              "2                      0.599382                        0.348962   \n",
              "3                      0.441813                        0.448545   \n",
              "4                      0.528321                        0.448545   \n",
              "\n",
              "   Radial Highways Distance  ValueProperty/tax rate  Teacher/town  \\\n",
              "0                  0.000000                0.208015      0.287234   \n",
              "1                  0.043478                0.104962      0.553191   \n",
              "2                  0.043478                0.104962      0.553191   \n",
              "3                  0.086957                0.066794      0.648936   \n",
              "4                  0.086957                0.066794      0.648936   \n",
              "\n",
              "   blacks/town  Lower Status Percent  \n",
              "0     1.000000              0.089680  \n",
              "1     1.000000              0.204470  \n",
              "2     0.989737              0.063466  \n",
              "3     0.994276              0.033389  \n",
              "4     1.000000              0.099338  "
            ]
          },
          "execution_count": 6,
          "metadata": {},
          "output_type": "execute_result"
        }
      ],
      "source": [
        "# scale the features\n",
        "from sklearn.preprocessing import MinMaxScaler\n",
        "min_max_scaler = MinMaxScaler()\n",
        "x_scaled_minmax = min_max_scaler.fit_transform(X)\n",
        "X = pd.DataFrame(x_scaled_minmax, columns = X.columns)\n",
        "X.head()"
      ]
    },
    {
      "cell_type": "markdown",
      "metadata": {
        "id": "jNgGJyUxdfb5"
      },
      "source": [
        "### Train Test Splitting"
      ]
    },
    {
      "cell_type": "markdown",
      "metadata": {
        "id": "ZGRumsAsdfb5"
      },
      "source": [
        "**Task 6: Split the data into training and testing set and print their shapes.**"
      ]
    },
    {
      "cell_type": "code",
      "execution_count": null,
      "metadata": {
        "id": "761IAakzdfb6",
        "outputId": "f0cd1864-cef4-441a-c38b-60bd138ca894"
      },
      "outputs": [
        {
          "name": "stdout",
          "output_type": "stream",
          "text": [
            "(354, 13) (354, 1)\n",
            "(152, 13) (152, 1)\n"
          ]
        }
      ],
      "source": [
        "#write code here\n",
        "from sklearn.model_selection import train_test_split\n",
        "xtrain ,xtest, ytrain, ytest = train_test_split(X, Y, test_size=0.30, random_state=25,shuffle=True)\n",
        "print(xtrain.shape, ytrain.shape)\n",
        "print(xtest.shape, ytest.shape)"
      ]
    },
    {
      "cell_type": "markdown",
      "metadata": {
        "id": "-0aCxX1Xdfb7"
      },
      "source": [
        "### Ridge Regression"
      ]
    },
    {
      "cell_type": "code",
      "execution_count": null,
      "metadata": {
        "id": "8pH5P3r1dfb7"
      },
      "outputs": [],
      "source": [
        "from sklearn.linear_model import Ridge"
      ]
    },
    {
      "cell_type": "code",
      "execution_count": null,
      "metadata": {
        "id": "Tvt-cI7udfb7",
        "outputId": "56517842-a2c9-469c-970a-4751ae07d4e8"
      },
      "outputs": [
        {
          "data": {
            "text/plain": [
              "Ridge(alpha=0.01, copy_X=True, fit_intercept=True, max_iter=None,\n",
              "   normalize=False, random_state=None, solver='auto', tol=0.001)"
            ]
          },
          "execution_count": 9,
          "metadata": {},
          "output_type": "execute_result"
        }
      ],
      "source": [
        "ridge_regression = Ridge(alpha=0.01) \n",
        "ridge_regression"
      ]
    },
    {
      "cell_type": "code",
      "execution_count": null,
      "metadata": {
        "id": "-EUzFXZadfb8"
      },
      "outputs": [],
      "source": [
        "ridge_regression.fit(xtrain, ytrain)\n",
        "pred = ridge_regression.predict(xtest)"
      ]
    },
    {
      "cell_type": "code",
      "execution_count": null,
      "metadata": {
        "id": "rM3kMh_udfb8",
        "outputId": "67cf364e-5ae6-4137-89cf-5e2e61a37cff"
      },
      "outputs": [
        {
          "data": {
            "text/plain": [
              "0.7134655069693907"
            ]
          },
          "execution_count": 11,
          "metadata": {},
          "output_type": "execute_result"
        }
      ],
      "source": [
        "from sklearn.metrics import r2_score\n",
        "r2_score(ytest,pred)"
      ]
    },
    {
      "cell_type": "code",
      "execution_count": null,
      "metadata": {
        "id": "hRpzBxfWdfb8",
        "outputId": "6c85785b-8ec8-4ddf-9217-07866b722897"
      },
      "outputs": [
        {
          "data": {
            "image/png": "[encoded data removed]",
            "text/plain": [
              "<Figure size 1080x432 with 2 Axes>"
            ]
          },
          "metadata": {},
          "output_type": "display_data"
        }
      ],
      "source": [
        "from yellowbrick.regressor import ResidualsPlot\n",
        "plt.figure(figsize=(15,6))\n",
        "visualizer = ResidualsPlot(ridge_regression,hist=True)\n",
        "visualizer.fit(xtrain.values, ytrain.values)  \n",
        "visualizer.score(xtest.values, ytest.values)  \n",
        "visualizer.poof()"
      ]
    },
    {
      "cell_type": "markdown",
      "metadata": {
        "id": "RNIUGPhkdfb9"
      },
      "source": [
        "### Lasso Regression"
      ]
    },
    {
      "cell_type": "code",
      "execution_count": null,
      "metadata": {
        "id": "JdbVjzBUdfb-"
      },
      "outputs": [],
      "source": [
        "from sklearn.linear_model import Lasso"
      ]
    },
    {
      "cell_type": "code",
      "execution_count": null,
      "metadata": {
        "id": "9UrkB8ubdfb_",
        "outputId": "f1f1a572-48f5-45ac-e820-46cf73f70c2e"
      },
      "outputs": [
        {
          "data": {
            "text/plain": [
              "Lasso(alpha=0.001, copy_X=True, fit_intercept=True, max_iter=1000,\n",
              "   normalize=False, positive=False, precompute=False, random_state=None,\n",
              "   selection='cyclic', tol=0.0001, warm_start=False)"
            ]
          },
          "execution_count": 14,
          "metadata": {},
          "output_type": "execute_result"
        }
      ],
      "source": [
        "lasso_regression = Lasso(alpha=0.001) \n",
        "lasso_regression"
      ]
    },
    {
      "cell_type": "code",
      "execution_count": null,
      "metadata": {
        "id": "3JvTsZCLdfcA",
        "outputId": "76728511-3d57-4b23-b18a-dc1baf9b1a4e"
      },
      "outputs": [
        {
          "data": {
            "text/plain": [
              "0.7136059326484789"
            ]
          },
          "execution_count": 15,
          "metadata": {},
          "output_type": "execute_result"
        }
      ],
      "source": [
        "lasso_regression.fit(xtrain, ytrain)\n",
        "pred = lasso_regression.predict(xtest)\n",
        "r2_score(ytest,pred)"
      ]
    },
    {
      "cell_type": "markdown",
      "metadata": {
        "id": "npYZoJdYdfcB"
      },
      "source": [
        "### Alpha Selection Visualizer"
      ]
    },
    {
      "cell_type": "markdown",
      "metadata": {
        "id": "LA4gzyBBdfcB"
      },
      "source": [
        "The <mark>AlphaSelection</mark> Visualizer demonstrates how different values of alpha influence model selection during the regularization of linear models. Since regularization is designed to penalize model complexity, the higher the alpha, the less complex the model, decreasing the error due to variance (overfit). However, alphas that are too high increase the error due to bias (underfit). Therefore, it is important to choose an optimal alpha such that the error is minimized in both directions.\n",
        "\n",
        "To do this, typically you would you use one of the <mark>\"RegressionCV”</mark> models in scikit-learn. E.g. instead of using the Ridge (L2) regularizer, use RidgeCV and pass a list of alphas, which will be selected based on the cross-validation score of each alpha. This visualizer wraps a “RegressionCV” model and visualizes the alpha/error curve. If the visualization shows a jagged or random plot, then potentially the model is not sensitive to that type of regularization and another is required (e.g. L1 or Lasso regularization)."
      ]
    },
    {
      "cell_type": "code",
      "execution_count": null,
      "metadata": {
        "id": "cwR8FPm7dfcC"
      },
      "outputs": [],
      "source": [
        "from sklearn.linear_model import LassoCV\n",
        "from sklearn.linear_model import RidgeCV\n",
        "from yellowbrick.regressor import AlphaSelection"
      ]
    },
    {
      "cell_type": "code",
      "execution_count": null,
      "metadata": {
        "id": "tbI5jV5kdfcC",
        "outputId": "a14c6d6c-4e90-412e-b840-e3174f7806dc"
      },
      "outputs": [
        {
          "name": "stderr",
          "output_type": "stream",
          "text": [
            "C:\\Users\\Fatima Bukhari\\Anaconda3\\lib\\site-packages\\sklearn\\linear_model\\coordinate_descent.py:1109: DataConversionWarning: A column-vector y was passed when a 1d array was expected. Please change the shape of y to (n_samples, ), for example using ravel().\n",
            "  y = column_or_1d(y, warn=True)\n"
          ]
        },
        {
          "data": {
            "image/png": "[encoded data removed]",
            "text/plain": [
              "<Figure size 576x396 with 1 Axes>"
            ]
          },
          "metadata": {},
          "output_type": "display_data"
        }
      ],
      "source": [
        "# Create a list of alphas to cross-validate against \n",
        "alphas = np.logspace(-10, 1, 40)\n",
        "\n",
        "# Instantiate the linear model and visualizer \n",
        "model = LassoCV(alphas=alphas, cv=5)\n",
        "visualizer = AlphaSelection(model)\n",
        "\n",
        "visualizer.fit(X, Y)        \n",
        "g = visualizer.poof()    "
      ]
    },
    {
      "cell_type": "code",
      "execution_count": null,
      "metadata": {
        "id": "mQDuvpHVdfcD"
      },
      "outputs": [],
      "source": []
    }
  ],
  "metadata": {
    "kernelspec": {
      "display_name": "Python 3",
      "language": "python",
      "name": "python3"
    },
    "language_info": {
      "codemirror_mode": {
        "name": "ipython",
        "version": 3
      },
      "file_extension": ".py",
      "mimetype": "text/x-python",
      "name": "python",
      "nbconvert_exporter": "python",
      "pygments_lexer": "ipython3",
      "version": "3.7.1"
    },
    "colab": {
      "provenance": []
    }
  },
  "nbformat": 4,
  "nbformat_minor": 0
}